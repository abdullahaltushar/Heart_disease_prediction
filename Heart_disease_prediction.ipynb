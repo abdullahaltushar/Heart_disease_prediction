{
 "cells": [
  {
   "cell_type": "code",
   "execution_count": 1,
   "metadata": {},
   "outputs": [],
   "source": [
    "#Importing libraries\n",
    "import numpy as np\n",
    "import pandas as pd\n",
    "import matplotlib.pyplot as plt\n",
    "import seaborn as sns\n",
    "from sklearn.metrics import accuracy_score\n",
    "\n",
    "%matplotlib inline\n",
    "\n",
    "import os\n",
    "\n",
    "\n",
    "import warnings\n",
    "warnings.filterwarnings('ignore')"
   ]
  },
  {
   "cell_type": "code",
   "execution_count": 2,
   "metadata": {},
   "outputs": [],
   "source": [
    "#load data \n",
    "data = pd.read_csv(\"heart.csv\")"
   ]
  },
  {
   "cell_type": "code",
   "execution_count": 3,
   "metadata": {},
   "outputs": [
    {
     "data": {
      "text/html": [
       "<div>\n",
       "<style scoped>\n",
       "    .dataframe tbody tr th:only-of-type {\n",
       "        vertical-align: middle;\n",
       "    }\n",
       "\n",
       "    .dataframe tbody tr th {\n",
       "        vertical-align: top;\n",
       "    }\n",
       "\n",
       "    .dataframe thead th {\n",
       "        text-align: right;\n",
       "    }\n",
       "</style>\n",
       "<table border=\"1\" class=\"dataframe\">\n",
       "  <thead>\n",
       "    <tr style=\"text-align: right;\">\n",
       "      <th></th>\n",
       "      <th>age</th>\n",
       "      <th>sex</th>\n",
       "      <th>chest pain type</th>\n",
       "      <th>resting bp s</th>\n",
       "      <th>cholesterol</th>\n",
       "      <th>fasting blood sugar</th>\n",
       "      <th>resting ecg</th>\n",
       "      <th>max heart rate</th>\n",
       "      <th>exercise angina</th>\n",
       "      <th>oldpeak</th>\n",
       "      <th>ST slope</th>\n",
       "      <th>target</th>\n",
       "    </tr>\n",
       "  </thead>\n",
       "  <tbody>\n",
       "    <tr>\n",
       "      <th>0</th>\n",
       "      <td>40</td>\n",
       "      <td>1</td>\n",
       "      <td>2</td>\n",
       "      <td>140</td>\n",
       "      <td>289</td>\n",
       "      <td>0</td>\n",
       "      <td>0</td>\n",
       "      <td>172</td>\n",
       "      <td>0</td>\n",
       "      <td>0.0</td>\n",
       "      <td>1</td>\n",
       "      <td>0</td>\n",
       "    </tr>\n",
       "    <tr>\n",
       "      <th>1</th>\n",
       "      <td>49</td>\n",
       "      <td>0</td>\n",
       "      <td>3</td>\n",
       "      <td>160</td>\n",
       "      <td>180</td>\n",
       "      <td>0</td>\n",
       "      <td>0</td>\n",
       "      <td>156</td>\n",
       "      <td>0</td>\n",
       "      <td>1.0</td>\n",
       "      <td>2</td>\n",
       "      <td>1</td>\n",
       "    </tr>\n",
       "    <tr>\n",
       "      <th>2</th>\n",
       "      <td>37</td>\n",
       "      <td>1</td>\n",
       "      <td>2</td>\n",
       "      <td>130</td>\n",
       "      <td>283</td>\n",
       "      <td>0</td>\n",
       "      <td>1</td>\n",
       "      <td>98</td>\n",
       "      <td>0</td>\n",
       "      <td>0.0</td>\n",
       "      <td>1</td>\n",
       "      <td>0</td>\n",
       "    </tr>\n",
       "    <tr>\n",
       "      <th>3</th>\n",
       "      <td>48</td>\n",
       "      <td>0</td>\n",
       "      <td>4</td>\n",
       "      <td>138</td>\n",
       "      <td>214</td>\n",
       "      <td>0</td>\n",
       "      <td>0</td>\n",
       "      <td>108</td>\n",
       "      <td>1</td>\n",
       "      <td>1.5</td>\n",
       "      <td>2</td>\n",
       "      <td>1</td>\n",
       "    </tr>\n",
       "    <tr>\n",
       "      <th>4</th>\n",
       "      <td>54</td>\n",
       "      <td>1</td>\n",
       "      <td>3</td>\n",
       "      <td>150</td>\n",
       "      <td>195</td>\n",
       "      <td>0</td>\n",
       "      <td>0</td>\n",
       "      <td>122</td>\n",
       "      <td>0</td>\n",
       "      <td>0.0</td>\n",
       "      <td>1</td>\n",
       "      <td>0</td>\n",
       "    </tr>\n",
       "  </tbody>\n",
       "</table>\n",
       "</div>"
      ],
      "text/plain": [
       "   age  sex  chest pain type  resting bp s  cholesterol  fasting blood sugar  \\\n",
       "0   40    1                2           140          289                    0   \n",
       "1   49    0                3           160          180                    0   \n",
       "2   37    1                2           130          283                    0   \n",
       "3   48    0                4           138          214                    0   \n",
       "4   54    1                3           150          195                    0   \n",
       "\n",
       "   resting ecg  max heart rate  exercise angina  oldpeak  ST slope  target  \n",
       "0            0             172                0      0.0         1       0  \n",
       "1            0             156                0      1.0         2       1  \n",
       "2            1              98                0      0.0         1       0  \n",
       "3            0             108                1      1.5         2       1  \n",
       "4            0             122                0      0.0         1       0  "
      ]
     },
     "execution_count": 3,
     "metadata": {},
     "output_type": "execute_result"
    }
   ],
   "source": [
    "#show top some data\n",
    "data.head()"
   ]
  },
  {
   "cell_type": "code",
   "execution_count": 4,
   "metadata": {},
   "outputs": [
    {
     "data": {
      "text/plain": [
       "(1190, 12)"
      ]
     },
     "execution_count": 4,
     "metadata": {},
     "output_type": "execute_result"
    }
   ],
   "source": [
    "#Shape of data\n",
    "data.shape"
   ]
  },
  {
   "cell_type": "code",
   "execution_count": 5,
   "metadata": {},
   "outputs": [
    {
     "name": "stdout",
     "output_type": "stream",
     "text": [
      "<class 'pandas.core.frame.DataFrame'>\n",
      "RangeIndex: 1190 entries, 0 to 1189\n",
      "Data columns (total 12 columns):\n",
      " #   Column               Non-Null Count  Dtype  \n",
      "---  ------               --------------  -----  \n",
      " 0   age                  1190 non-null   int64  \n",
      " 1   sex                  1190 non-null   int64  \n",
      " 2   chest pain type      1190 non-null   int64  \n",
      " 3   resting bp s         1190 non-null   int64  \n",
      " 4   cholesterol          1190 non-null   int64  \n",
      " 5   fasting blood sugar  1190 non-null   int64  \n",
      " 6   resting ecg          1190 non-null   int64  \n",
      " 7   max heart rate       1190 non-null   int64  \n",
      " 8   exercise angina      1190 non-null   int64  \n",
      " 9   oldpeak              1190 non-null   float64\n",
      " 10  ST slope             1190 non-null   int64  \n",
      " 11  target               1190 non-null   int64  \n",
      "dtypes: float64(1), int64(11)\n",
      "memory usage: 111.7 KB\n"
     ]
    }
   ],
   "source": [
    "#Info of data\n",
    "data.info()\n"
   ]
  },
  {
   "cell_type": "code",
   "execution_count": 6,
   "metadata": {},
   "outputs": [
    {
     "data": {
      "text/html": [
       "<div>\n",
       "<style scoped>\n",
       "    .dataframe tbody tr th:only-of-type {\n",
       "        vertical-align: middle;\n",
       "    }\n",
       "\n",
       "    .dataframe tbody tr th {\n",
       "        vertical-align: top;\n",
       "    }\n",
       "\n",
       "    .dataframe thead th {\n",
       "        text-align: right;\n",
       "    }\n",
       "</style>\n",
       "<table border=\"1\" class=\"dataframe\">\n",
       "  <thead>\n",
       "    <tr style=\"text-align: right;\">\n",
       "      <th></th>\n",
       "      <th>age</th>\n",
       "      <th>sex</th>\n",
       "      <th>chest pain type</th>\n",
       "      <th>resting bp s</th>\n",
       "      <th>cholesterol</th>\n",
       "      <th>fasting blood sugar</th>\n",
       "      <th>resting ecg</th>\n",
       "      <th>max heart rate</th>\n",
       "      <th>exercise angina</th>\n",
       "      <th>oldpeak</th>\n",
       "      <th>ST slope</th>\n",
       "      <th>target</th>\n",
       "    </tr>\n",
       "  </thead>\n",
       "  <tbody>\n",
       "    <tr>\n",
       "      <th>count</th>\n",
       "      <td>1190.000000</td>\n",
       "      <td>1190.000000</td>\n",
       "      <td>1190.000000</td>\n",
       "      <td>1190.000000</td>\n",
       "      <td>1190.000000</td>\n",
       "      <td>1190.000000</td>\n",
       "      <td>1190.000000</td>\n",
       "      <td>1190.000000</td>\n",
       "      <td>1190.000000</td>\n",
       "      <td>1190.000000</td>\n",
       "      <td>1190.000000</td>\n",
       "      <td>1190.000000</td>\n",
       "    </tr>\n",
       "    <tr>\n",
       "      <th>mean</th>\n",
       "      <td>53.720168</td>\n",
       "      <td>0.763866</td>\n",
       "      <td>3.232773</td>\n",
       "      <td>132.153782</td>\n",
       "      <td>210.363866</td>\n",
       "      <td>0.213445</td>\n",
       "      <td>0.698319</td>\n",
       "      <td>139.732773</td>\n",
       "      <td>0.387395</td>\n",
       "      <td>0.922773</td>\n",
       "      <td>1.624370</td>\n",
       "      <td>0.528571</td>\n",
       "    </tr>\n",
       "    <tr>\n",
       "      <th>std</th>\n",
       "      <td>9.358203</td>\n",
       "      <td>0.424884</td>\n",
       "      <td>0.935480</td>\n",
       "      <td>18.368823</td>\n",
       "      <td>101.420489</td>\n",
       "      <td>0.409912</td>\n",
       "      <td>0.870359</td>\n",
       "      <td>25.517636</td>\n",
       "      <td>0.487360</td>\n",
       "      <td>1.086337</td>\n",
       "      <td>0.610459</td>\n",
       "      <td>0.499393</td>\n",
       "    </tr>\n",
       "    <tr>\n",
       "      <th>min</th>\n",
       "      <td>28.000000</td>\n",
       "      <td>0.000000</td>\n",
       "      <td>1.000000</td>\n",
       "      <td>0.000000</td>\n",
       "      <td>0.000000</td>\n",
       "      <td>0.000000</td>\n",
       "      <td>0.000000</td>\n",
       "      <td>60.000000</td>\n",
       "      <td>0.000000</td>\n",
       "      <td>-2.600000</td>\n",
       "      <td>0.000000</td>\n",
       "      <td>0.000000</td>\n",
       "    </tr>\n",
       "    <tr>\n",
       "      <th>25%</th>\n",
       "      <td>47.000000</td>\n",
       "      <td>1.000000</td>\n",
       "      <td>3.000000</td>\n",
       "      <td>120.000000</td>\n",
       "      <td>188.000000</td>\n",
       "      <td>0.000000</td>\n",
       "      <td>0.000000</td>\n",
       "      <td>121.000000</td>\n",
       "      <td>0.000000</td>\n",
       "      <td>0.000000</td>\n",
       "      <td>1.000000</td>\n",
       "      <td>0.000000</td>\n",
       "    </tr>\n",
       "    <tr>\n",
       "      <th>50%</th>\n",
       "      <td>54.000000</td>\n",
       "      <td>1.000000</td>\n",
       "      <td>4.000000</td>\n",
       "      <td>130.000000</td>\n",
       "      <td>229.000000</td>\n",
       "      <td>0.000000</td>\n",
       "      <td>0.000000</td>\n",
       "      <td>140.500000</td>\n",
       "      <td>0.000000</td>\n",
       "      <td>0.600000</td>\n",
       "      <td>2.000000</td>\n",
       "      <td>1.000000</td>\n",
       "    </tr>\n",
       "    <tr>\n",
       "      <th>75%</th>\n",
       "      <td>60.000000</td>\n",
       "      <td>1.000000</td>\n",
       "      <td>4.000000</td>\n",
       "      <td>140.000000</td>\n",
       "      <td>269.750000</td>\n",
       "      <td>0.000000</td>\n",
       "      <td>2.000000</td>\n",
       "      <td>160.000000</td>\n",
       "      <td>1.000000</td>\n",
       "      <td>1.600000</td>\n",
       "      <td>2.000000</td>\n",
       "      <td>1.000000</td>\n",
       "    </tr>\n",
       "    <tr>\n",
       "      <th>max</th>\n",
       "      <td>77.000000</td>\n",
       "      <td>1.000000</td>\n",
       "      <td>4.000000</td>\n",
       "      <td>200.000000</td>\n",
       "      <td>603.000000</td>\n",
       "      <td>1.000000</td>\n",
       "      <td>2.000000</td>\n",
       "      <td>202.000000</td>\n",
       "      <td>1.000000</td>\n",
       "      <td>6.200000</td>\n",
       "      <td>3.000000</td>\n",
       "      <td>1.000000</td>\n",
       "    </tr>\n",
       "  </tbody>\n",
       "</table>\n",
       "</div>"
      ],
      "text/plain": [
       "               age          sex  chest pain type  resting bp s  cholesterol  \\\n",
       "count  1190.000000  1190.000000      1190.000000   1190.000000  1190.000000   \n",
       "mean     53.720168     0.763866         3.232773    132.153782   210.363866   \n",
       "std       9.358203     0.424884         0.935480     18.368823   101.420489   \n",
       "min      28.000000     0.000000         1.000000      0.000000     0.000000   \n",
       "25%      47.000000     1.000000         3.000000    120.000000   188.000000   \n",
       "50%      54.000000     1.000000         4.000000    130.000000   229.000000   \n",
       "75%      60.000000     1.000000         4.000000    140.000000   269.750000   \n",
       "max      77.000000     1.000000         4.000000    200.000000   603.000000   \n",
       "\n",
       "       fasting blood sugar  resting ecg  max heart rate  exercise angina  \\\n",
       "count          1190.000000  1190.000000     1190.000000      1190.000000   \n",
       "mean              0.213445     0.698319      139.732773         0.387395   \n",
       "std               0.409912     0.870359       25.517636         0.487360   \n",
       "min               0.000000     0.000000       60.000000         0.000000   \n",
       "25%               0.000000     0.000000      121.000000         0.000000   \n",
       "50%               0.000000     0.000000      140.500000         0.000000   \n",
       "75%               0.000000     2.000000      160.000000         1.000000   \n",
       "max               1.000000     2.000000      202.000000         1.000000   \n",
       "\n",
       "           oldpeak     ST slope       target  \n",
       "count  1190.000000  1190.000000  1190.000000  \n",
       "mean      0.922773     1.624370     0.528571  \n",
       "std       1.086337     0.610459     0.499393  \n",
       "min      -2.600000     0.000000     0.000000  \n",
       "25%       0.000000     1.000000     0.000000  \n",
       "50%       0.600000     2.000000     1.000000  \n",
       "75%       1.600000     2.000000     1.000000  \n",
       "max       6.200000     3.000000     1.000000  "
      ]
     },
     "execution_count": 6,
     "metadata": {},
     "output_type": "execute_result"
    }
   ],
   "source": [
    "#Description\n",
    "data.describe()"
   ]
  },
  {
   "cell_type": "code",
   "execution_count": 7,
   "metadata": {},
   "outputs": [
    {
     "data": {
      "text/plain": [
       "count    1190.000000\n",
       "mean        0.528571\n",
       "std         0.499393\n",
       "min         0.000000\n",
       "25%         0.000000\n",
       "50%         1.000000\n",
       "75%         1.000000\n",
       "max         1.000000\n",
       "Name: target, dtype: float64"
      ]
     },
     "execution_count": 7,
     "metadata": {},
     "output_type": "execute_result"
    }
   ],
   "source": [
    "#Analysing the 'target' variable\n",
    "data[\"target\"].describe()"
   ]
  },
  {
   "cell_type": "markdown",
   "metadata": {},
   "source": [
    "# Data Analysis"
   ]
  },
  {
   "cell_type": "code",
   "execution_count": 8,
   "metadata": {},
   "outputs": [
    {
     "data": {
      "text/plain": [
       "1    629\n",
       "0    561\n",
       "Name: target, dtype: int64"
      ]
     },
     "execution_count": 8,
     "metadata": {},
     "output_type": "execute_result"
    },
    {
     "data": {
      "image/png": "[encoded data removed]",
      "text/plain": [
       "<Figure size 432x288 with 1 Axes>"
      ]
     },
     "metadata": {
      "needs_background": "light"
     },
     "output_type": "display_data"
    }
   ],
   "source": [
    "y = data[\"target\"]\n",
    "\n",
    "sns.countplot(y)\n",
    "\n",
    "\n",
    "target_temp = data.target.value_counts()\n",
    "\n",
    "target_temp"
   ]
  },
  {
   "cell_type": "code",
   "execution_count": 9,
   "metadata": {},
   "outputs": [
    {
     "name": "stdout",
     "output_type": "stream",
     "text": [
      "Percentage of patience without heart problems: 47.14\n",
      "Percentage of patience with heart problems: 52.86\n"
     ]
    }
   ],
   "source": [
    "print(\"Percentage of patience without heart problems: \"+str(round(target_temp[0]*100/1190,2)))\n",
    "print(\"Percentage of patience with heart problems: \"+str(round(target_temp[1]*100/1190,2)))"
   ]
  },
  {
   "cell_type": "code",
   "execution_count": 10,
   "metadata": {},
   "outputs": [
    {
     "data": {
      "text/plain": [
       "array([1, 0])"
      ]
     },
     "execution_count": 10,
     "metadata": {},
     "output_type": "execute_result"
    }
   ],
   "source": [
    "#sex data feature\n",
    "data[\"sex\"].unique()"
   ]
  },
  {
   "cell_type": "code",
   "execution_count": 11,
   "metadata": {},
   "outputs": [
    {
     "data": {
      "text/plain": [
       "<AxesSubplot:xlabel='sex', ylabel='target'>"
      ]
     },
     "execution_count": 11,
     "metadata": {},
     "output_type": "execute_result"
    },
    {
     "data": {
      "image/png": "[encoded data removed]",
      "text/plain": [
       "<Figure size 432x288 with 1 Axes>"
      ]
     },
     "metadata": {
      "needs_background": "light"
     },
     "output_type": "display_data"
    }
   ],
   "source": [
    "#male and female data compare with target\n",
    "sns.barplot(data[\"sex\"],y)"
   ]
  },
  {
   "cell_type": "markdown",
   "metadata": {},
   "source": [
    "We notice, that males are more likely to have heart problems than females"
   ]
  },
  {
   "cell_type": "code",
   "execution_count": 12,
   "metadata": {},
   "outputs": [
    {
     "data": {
      "text/plain": [
       "array([2, 3, 4, 1])"
      ]
     },
     "execution_count": 12,
     "metadata": {},
     "output_type": "execute_result"
    }
   ],
   "source": [
    "#Chest Pain Type feature\n",
    "data[\"chest pain type\"].unique()"
   ]
  },
  {
   "cell_type": "code",
   "execution_count": 13,
   "metadata": {},
   "outputs": [
    {
     "data": {
      "text/plain": [
       "<AxesSubplot:xlabel='chest pain type', ylabel='target'>"
      ]
     },
     "execution_count": 13,
     "metadata": {},
     "output_type": "execute_result"
    },
    {
     "data": {
      "image/png": "[encoded data removed]",
      "text/plain": [
       "<Figure size 432x288 with 1 Axes>"
      ]
     },
     "metadata": {
      "needs_background": "light"
     },
     "output_type": "display_data"
    }
   ],
   "source": [
    "sns.barplot(data[\"chest pain type\"],y)"
   ]
  },
  {
   "cell_type": "markdown",
   "metadata": {},
   "source": [
    "We notice, that chest pain of '2', i.e. the ones with atypical angina are much less likely to have heart problems"
   ]
  },
  {
   "cell_type": "code",
   "execution_count": 14,
   "metadata": {},
   "outputs": [
    {
     "data": {
      "text/plain": [
       "array([0, 1])"
      ]
     },
     "execution_count": 14,
     "metadata": {},
     "output_type": "execute_result"
    }
   ],
   "source": [
    "#FBS feature\n",
    "data[\"fasting blood sugar\"].unique()"
   ]
  },
  {
   "cell_type": "code",
   "execution_count": 15,
   "metadata": {},
   "outputs": [
    {
     "data": {
      "text/plain": [
       "<AxesSubplot:xlabel='fasting blood sugar', ylabel='target'>"
      ]
     },
     "execution_count": 15,
     "metadata": {},
     "output_type": "execute_result"
    },
    {
     "data": {
      "image/png": "[encoded data removed]",
      "text/plain": [
       "<Figure size 432x288 with 1 Axes>"
      ]
     },
     "metadata": {
      "needs_background": "light"
     },
     "output_type": "display_data"
    }
   ],
   "source": [
    "sns.barplot(data[\"fasting blood sugar\"],y)"
   ]
  },
  {
   "cell_type": "markdown",
   "metadata": {},
   "source": [
    "We noticed that the fasting blood sugar of '0' is less than 120\n"
   ]
  },
  {
   "cell_type": "code",
   "execution_count": 16,
   "metadata": {},
   "outputs": [
    {
     "data": {
      "text/plain": [
       "array([0, 1, 2])"
      ]
     },
     "execution_count": 16,
     "metadata": {},
     "output_type": "execute_result"
    }
   ],
   "source": [
    "#Resting electrocardiogram results feature\n",
    "data[\"resting ecg\"].unique()"
   ]
  },
  {
   "cell_type": "code",
   "execution_count": 17,
   "metadata": {},
   "outputs": [
    {
     "data": {
      "text/plain": [
       "<AxesSubplot:xlabel='resting ecg', ylabel='target'>"
      ]
     },
     "execution_count": 17,
     "metadata": {},
     "output_type": "execute_result"
    },
    {
     "data": {
      "image/png": "[encoded data removed]",
      "text/plain": [
       "<Figure size 432x288 with 1 Axes>"
      ]
     },
     "metadata": {
      "needs_background": "light"
     },
     "output_type": "display_data"
    }
   ],
   "source": [
    "sns.barplot(data[\"resting ecg\"],y)"
   ]
  },
  {
   "cell_type": "markdown",
   "metadata": {},
   "source": [
    "We noticed that the Resting electrocardiogram results  of '0' is normal much less likely others."
   ]
  },
  {
   "cell_type": "code",
   "execution_count": 18,
   "metadata": {},
   "outputs": [
    {
     "data": {
      "text/plain": [
       "array([0, 1])"
      ]
     },
     "execution_count": 18,
     "metadata": {},
     "output_type": "execute_result"
    }
   ],
   "source": [
    "#Exercise induced angina feature\n",
    "data[\"exercise angina\"].unique()"
   ]
  },
  {
   "cell_type": "code",
   "execution_count": 19,
   "metadata": {},
   "outputs": [
    {
     "data": {
      "text/plain": [
       "<AxesSubplot:xlabel='exercise angina', ylabel='target'>"
      ]
     },
     "execution_count": 19,
     "metadata": {},
     "output_type": "execute_result"
    },
    {
     "data": {
      "image/png": "[encoded data removed]",
      "text/plain": [
       "<Figure size 432x288 with 1 Axes>"
      ]
     },
     "metadata": {
      "needs_background": "light"
     },
     "output_type": "display_data"
    }
   ],
   "source": [
    "sns.barplot(data[\"exercise angina\"],y)"
   ]
  },
  {
   "cell_type": "markdown",
   "metadata": {},
   "source": [
    "People with exang=1 i.e. Exercise induced angina are much  likely to have heart problems"
   ]
  },
  {
   "cell_type": "code",
   "execution_count": 20,
   "metadata": {},
   "outputs": [
    {
     "data": {
      "text/plain": [
       "array([1, 2, 3, 0])"
      ]
     },
     "execution_count": 20,
     "metadata": {},
     "output_type": "execute_result"
    }
   ],
   "source": [
    "#Slope feature\n",
    "data[\"ST slope\"].unique()"
   ]
  },
  {
   "cell_type": "code",
   "execution_count": 21,
   "metadata": {},
   "outputs": [
    {
     "data": {
      "text/plain": [
       "<AxesSubplot:xlabel='ST slope', ylabel='target'>"
      ]
     },
     "execution_count": 21,
     "metadata": {},
     "output_type": "execute_result"
    },
    {
     "data": {
      "image/png": "[encoded data removed]",
      "text/plain": [
       "<Figure size 432x288 with 1 Axes>"
      ]
     },
     "metadata": {
      "needs_background": "light"
     },
     "output_type": "display_data"
    }
   ],
   "source": [
    "sns.barplot(data[\"ST slope\"],y)"
   ]
  },
  {
   "cell_type": "markdown",
   "metadata": {},
   "source": [
    "We observe, that Slope '0' causes heart pain much more than Slope '1','2' and '3'"
   ]
  },
  {
   "cell_type": "markdown",
   "metadata": {},
   "source": [
    "# Train Test split"
   ]
  },
  {
   "cell_type": "code",
   "execution_count": 22,
   "metadata": {},
   "outputs": [],
   "source": [
    "X = data.drop(\"target\",axis=1)\n",
    "y = data[\"target\"]"
   ]
  },
  {
   "cell_type": "code",
   "execution_count": 23,
   "metadata": {},
   "outputs": [],
   "source": [
    "from sklearn.model_selection import train_test_split\n",
    "x_train,x_test,y_train,y_test = train_test_split(X,y,test_size=0.20,random_state=0)"
   ]
  },
  {
   "cell_type": "code",
   "execution_count": 24,
   "metadata": {},
   "outputs": [
    {
     "data": {
      "text/plain": [
       "952"
      ]
     },
     "execution_count": 24,
     "metadata": {},
     "output_type": "execute_result"
    }
   ],
   "source": [
    "#len of train data\n",
    "len(x_train)"
   ]
  },
  {
   "cell_type": "code",
   "execution_count": 25,
   "metadata": {},
   "outputs": [
    {
     "data": {
      "text/plain": [
       "238"
      ]
     },
     "execution_count": 25,
     "metadata": {},
     "output_type": "execute_result"
    }
   ],
   "source": [
    "#len of test data\n",
    "len(x_test)"
   ]
  },
  {
   "cell_type": "code",
   "execution_count": 26,
   "metadata": {},
   "outputs": [
    {
     "data": {
      "text/plain": [
       "(952, 11)"
      ]
     },
     "execution_count": 26,
     "metadata": {},
     "output_type": "execute_result"
    }
   ],
   "source": [
    "# shape of train data\n",
    "x_train.shape"
   ]
  },
  {
   "cell_type": "code",
   "execution_count": 27,
   "metadata": {},
   "outputs": [
    {
     "data": {
      "text/plain": [
       "(238, 11)"
      ]
     },
     "execution_count": 27,
     "metadata": {},
     "output_type": "execute_result"
    }
   ],
   "source": [
    "#shape of test data\n",
    "x_test.shape"
   ]
  },
  {
   "cell_type": "markdown",
   "metadata": {},
   "source": [
    "# Decision Tree"
   ]
  },
  {
   "cell_type": "code",
   "execution_count": 28,
   "metadata": {},
   "outputs": [],
   "source": [
    "#import model\n",
    "from sklearn import tree\n",
    "model=tree.DecisionTreeClassifier()"
   ]
  },
  {
   "cell_type": "code",
   "execution_count": 29,
   "metadata": {},
   "outputs": [
    {
     "data": {
      "text/plain": [
       "DecisionTreeClassifier()"
      ]
     },
     "execution_count": 29,
     "metadata": {},
     "output_type": "execute_result"
    }
   ],
   "source": [
    "model.fit(x_train,y_train)"
   ]
  },
  {
   "cell_type": "code",
   "execution_count": 30,
   "metadata": {},
   "outputs": [
    {
     "data": {
      "text/plain": [
       "1.0"
      ]
     },
     "execution_count": 30,
     "metadata": {},
     "output_type": "execute_result"
    }
   ],
   "source": [
    "model.score(x_train,y_train)"
   ]
  },
  {
   "cell_type": "code",
   "execution_count": 31,
   "metadata": {},
   "outputs": [],
   "source": [
    "Y_pred_data = model.predict(x_test)"
   ]
  },
  {
   "cell_type": "code",
   "execution_count": 32,
   "metadata": {},
   "outputs": [
    {
     "name": "stdout",
     "output_type": "stream",
     "text": [
      "(238,)\n"
     ]
    }
   ],
   "source": [
    "#shape of predict\n",
    "print(Y_pred_data.shape)"
   ]
  },
  {
   "cell_type": "code",
   "execution_count": 33,
   "metadata": {},
   "outputs": [
    {
     "data": {
      "text/plain": [
       "86.97478991596638"
      ]
     },
     "execution_count": 33,
     "metadata": {},
     "output_type": "execute_result"
    }
   ],
   "source": [
    "score_data = accuracy_score(Y_pred_data,y_test)*100\n",
    "score_data"
   ]
  },
  {
   "cell_type": "code",
   "execution_count": 34,
   "metadata": {},
   "outputs": [
    {
     "name": "stdout",
     "output_type": "stream",
     "text": [
      "The accuracy score achieved using Decision Tree is: 86.97478991596638 %\n"
     ]
    }
   ],
   "source": [
    "print(\"The accuracy score achieved using Decision Tree is: \"+str(score_data)+\" %\")"
   ]
  },
  {
   "cell_type": "markdown",
   "metadata": {},
   "source": [
    "matrix "
   ]
  },
  {
   "cell_type": "code",
   "execution_count": 35,
   "metadata": {},
   "outputs": [],
   "source": [
    "from sklearn.metrics import confusion_matrix"
   ]
  },
  {
   "cell_type": "code",
   "execution_count": 36,
   "metadata": {},
   "outputs": [
    {
     "data": {
      "text/plain": [
       "array([[ 97,  12],\n",
       "       [ 19, 110]])"
      ]
     },
     "execution_count": 36,
     "metadata": {},
     "output_type": "execute_result"
    }
   ],
   "source": [
    "confusion_matrix(y_test,Y_pred_data)"
   ]
  },
  {
   "cell_type": "markdown",
   "metadata": {},
   "source": [
    "# Random Forest"
   ]
  },
  {
   "cell_type": "code",
   "execution_count": 37,
   "metadata": {},
   "outputs": [],
   "source": [
    "from sklearn.ensemble import RandomForestClassifier"
   ]
  },
  {
   "cell_type": "code",
   "execution_count": 38,
   "metadata": {},
   "outputs": [],
   "source": [
    "rf_model = RandomForestClassifier(random_state=42)\n",
    "rf_model.fit(x_train,y_train)\n",
    "Y_pred_rf = rf_model.predict(x_test)"
   ]
  },
  {
   "cell_type": "code",
   "execution_count": 39,
   "metadata": {},
   "outputs": [
    {
     "data": {
      "text/plain": [
       "93.69747899159664"
      ]
     },
     "execution_count": 39,
     "metadata": {},
     "output_type": "execute_result"
    }
   ],
   "source": [
    "score_rf = accuracy_score(Y_pred_rf,y_test)*100\n",
    "score_rf"
   ]
  },
  {
   "cell_type": "code",
   "execution_count": 40,
   "metadata": {},
   "outputs": [
    {
     "name": "stdout",
     "output_type": "stream",
     "text": [
      "The accuracy score achieved using Decision Tree is: 93.69747899159664 %\n"
     ]
    }
   ],
   "source": [
    "print(\"The accuracy score achieved using Decision Tree is: \"+str(score_rf)+\" %\")"
   ]
  },
  {
   "cell_type": "markdown",
   "metadata": {},
   "source": [
    "matrix"
   ]
  },
  {
   "cell_type": "code",
   "execution_count": 41,
   "metadata": {},
   "outputs": [
    {
     "data": {
      "text/plain": [
       "array([[100,   9],\n",
       "       [  6, 123]])"
      ]
     },
     "execution_count": 41,
     "metadata": {},
     "output_type": "execute_result"
    }
   ],
   "source": [
    "confusion_matrix(y_test,Y_pred_rf)"
   ]
  },
  {
   "cell_type": "markdown",
   "metadata": {},
   "source": [
    "# Logistic Regression"
   ]
  },
  {
   "cell_type": "code",
   "execution_count": 42,
   "metadata": {},
   "outputs": [],
   "source": [
    "from sklearn.linear_model import LogisticRegression"
   ]
  },
  {
   "cell_type": "code",
   "execution_count": 43,
   "metadata": {},
   "outputs": [],
   "source": [
    "lr_model = LogisticRegression()\n",
    "\n",
    "lr_model.fit(x_train,y_train)\n",
    "\n",
    "Y_pred_lr = lr_model.predict(x_test)"
   ]
  },
  {
   "cell_type": "code",
   "execution_count": 44,
   "metadata": {},
   "outputs": [
    {
     "data": {
      "text/plain": [
       "80.67226890756302"
      ]
     },
     "execution_count": 44,
     "metadata": {},
     "output_type": "execute_result"
    }
   ],
   "source": [
    "score_lr = accuracy_score(Y_pred_lr,y_test)*100\n",
    "score_lr"
   ]
  },
  {
   "cell_type": "code",
   "execution_count": 45,
   "metadata": {},
   "outputs": [
    {
     "name": "stdout",
     "output_type": "stream",
     "text": [
      "The accuracy score achieved using Decision Tree is: 80.67226890756302 %\n"
     ]
    }
   ],
   "source": [
    "print(\"The accuracy score achieved using Decision Tree is: \"+str(score_lr)+\" %\")"
   ]
  },
  {
   "cell_type": "markdown",
   "metadata": {},
   "source": [
    "matrix"
   ]
  },
  {
   "cell_type": "code",
   "execution_count": 46,
   "metadata": {},
   "outputs": [
    {
     "data": {
      "text/plain": [
       "array([[ 85,  24],\n",
       "       [ 22, 107]])"
      ]
     },
     "execution_count": 46,
     "metadata": {},
     "output_type": "execute_result"
    }
   ],
   "source": [
    "confusion_matrix(y_test,Y_pred_lr)"
   ]
  },
  {
   "cell_type": "markdown",
   "metadata": {},
   "source": [
    "# Neural Network"
   ]
  },
  {
   "cell_type": "code",
   "execution_count": 47,
   "metadata": {},
   "outputs": [],
   "source": [
    "from keras.models import Sequential\n",
    "from keras.layers import Dense"
   ]
  },
  {
   "cell_type": "code",
   "execution_count": 48,
   "metadata": {},
   "outputs": [
    {
     "name": "stdout",
     "output_type": "stream",
     "text": [
      "Model: \"sequential\"\n",
      "_________________________________________________________________\n",
      "Layer (type)                 Output Shape              Param #   \n",
      "=================================================================\n",
      "dense (Dense)                (None, 512)               6144      \n",
      "_________________________________________________________________\n",
      "dense_1 (Dense)              (None, 256)               131328    \n",
      "_________________________________________________________________\n",
      "dense_2 (Dense)              (None, 1)                 257       \n",
      "=================================================================\n",
      "Total params: 137,729\n",
      "Trainable params: 137,729\n",
      "Non-trainable params: 0\n",
      "_________________________________________________________________\n"
     ]
    }
   ],
   "source": [
    "model = Sequential()\n",
    "model.add(Dense(512,activation=\"relu\", input_dim=11))\n",
    "model.add(Dense(256,activation=\"relu\"))\n",
    "model.add(Dense(1,activation='sigmoid'))\n",
    "model.summary()"
   ]
  },
  {
   "cell_type": "code",
   "execution_count": 49,
   "metadata": {},
   "outputs": [],
   "source": [
    "model.compile(loss='binary_crossentropy',optimizer='adam',metrics=['accuracy'])"
   ]
  },
  {
   "cell_type": "code",
   "execution_count": 50,
   "metadata": {},
   "outputs": [
    {
     "name": "stdout",
     "output_type": "stream",
     "text": [
      "Epoch 1/300\n",
      "30/30 [==============================] - 0s 2ms/step - loss: 6.8429 - accuracy: 0.5712\n",
      "Epoch 2/300\n",
      "30/30 [==============================] - 0s 2ms/step - loss: 1.4389 - accuracy: 0.6741\n",
      "Epoch 3/300\n",
      "30/30 [==============================] - 0s 2ms/step - loss: 0.5924 - accuracy: 0.7208\n",
      "Epoch 4/300\n",
      "30/30 [==============================] - 0s 2ms/step - loss: 0.6317 - accuracy: 0.6856\n",
      "Epoch 5/300\n",
      "30/30 [==============================] - 0s 3ms/step - loss: 0.5933 - accuracy: 0.7067\n",
      "Epoch 6/300\n",
      "30/30 [==============================] - 0s 2ms/step - loss: 0.6230 - accuracy: 0.7356\n",
      "Epoch 7/300\n",
      "30/30 [==============================] - 0s 2ms/step - loss: 1.1029 - accuracy: 0.6821\n",
      "Epoch 8/300\n",
      "30/30 [==============================] - 0s 3ms/step - loss: 0.7397 - accuracy: 0.6818\n",
      "Epoch 9/300\n",
      "30/30 [==============================] - 0s 2ms/step - loss: 0.6355 - accuracy: 0.7231\n",
      "Epoch 10/300\n",
      "30/30 [==============================] - 0s 3ms/step - loss: 0.5311 - accuracy: 0.7920\n",
      "Epoch 11/300\n",
      "30/30 [==============================] - 0s 2ms/step - loss: 0.5756 - accuracy: 0.7816\n",
      "Epoch 12/300\n",
      "30/30 [==============================] - 0s 2ms/step - loss: 0.5918 - accuracy: 0.7315\n",
      "Epoch 13/300\n",
      "30/30 [==============================] - 0s 2ms/step - loss: 0.5198 - accuracy: 0.7662\n",
      "Epoch 14/300\n",
      "30/30 [==============================] - 0s 2ms/step - loss: 0.5585 - accuracy: 0.7839\n",
      "Epoch 15/300\n",
      "30/30 [==============================] - 0s 3ms/step - loss: 0.8977 - accuracy: 0.7127\n",
      "Epoch 16/300\n",
      "30/30 [==============================] - 0s 2ms/step - loss: 0.6826 - accuracy: 0.7393\n",
      "Epoch 17/300\n",
      "30/30 [==============================] - 0s 2ms/step - loss: 0.7779 - accuracy: 0.7392\n",
      "Epoch 18/300\n",
      "30/30 [==============================] - 0s 2ms/step - loss: 0.5381 - accuracy: 0.7744\n",
      "Epoch 19/300\n",
      "30/30 [==============================] - 0s 3ms/step - loss: 0.5294 - accuracy: 0.7794\n",
      "Epoch 20/300\n",
      "30/30 [==============================] - 0s 2ms/step - loss: 0.5177 - accuracy: 0.7751\n",
      "Epoch 21/300\n",
      "30/30 [==============================] - 0s 2ms/step - loss: 0.5924 - accuracy: 0.7421\n",
      "Epoch 22/300\n",
      "30/30 [==============================] - 0s 3ms/step - loss: 0.3686 - accuracy: 0.8551\n",
      "Epoch 23/300\n",
      "30/30 [==============================] - 0s 2ms/step - loss: 0.7211 - accuracy: 0.7090\n",
      "Epoch 24/300\n",
      "30/30 [==============================] - 0s 2ms/step - loss: 0.5114 - accuracy: 0.7892\n",
      "Epoch 25/300\n",
      "30/30 [==============================] - 0s 3ms/step - loss: 0.4319 - accuracy: 0.8338\n",
      "Epoch 26/300\n",
      "30/30 [==============================] - 0s 2ms/step - loss: 0.3932 - accuracy: 0.8350\n",
      "Epoch 27/300\n",
      "30/30 [==============================] - 0s 2ms/step - loss: 0.6057 - accuracy: 0.7443\n",
      "Epoch 28/300\n",
      "30/30 [==============================] - 0s 2ms/step - loss: 0.4327 - accuracy: 0.8365\n",
      "Epoch 29/300\n",
      "30/30 [==============================] - 0s 3ms/step - loss: 0.5103 - accuracy: 0.7981\n",
      "Epoch 30/300\n",
      "30/30 [==============================] - 0s 3ms/step - loss: 0.4554 - accuracy: 0.8018\n",
      "Epoch 31/300\n",
      "30/30 [==============================] - 0s 2ms/step - loss: 0.4414 - accuracy: 0.8181\n",
      "Epoch 32/300\n",
      "30/30 [==============================] - 0s 3ms/step - loss: 0.4469 - accuracy: 0.8075\n",
      "Epoch 33/300\n",
      "30/30 [==============================] - 0s 4ms/step - loss: 0.4828 - accuracy: 0.7994\n",
      "Epoch 34/300\n",
      "30/30 [==============================] - 0s 3ms/step - loss: 0.5319 - accuracy: 0.7609\n",
      "Epoch 35/300\n",
      "30/30 [==============================] - 0s 2ms/step - loss: 0.5804 - accuracy: 0.7542\n",
      "Epoch 36/300\n",
      "30/30 [==============================] - 0s 2ms/step - loss: 0.6253 - accuracy: 0.7627\n",
      "Epoch 37/300\n",
      "30/30 [==============================] - 0s 2ms/step - loss: 0.5750 - accuracy: 0.7834\n",
      "Epoch 38/300\n",
      "30/30 [==============================] - 0s 3ms/step - loss: 0.4356 - accuracy: 0.8159\n",
      "Epoch 39/300\n",
      "30/30 [==============================] - 0s 3ms/step - loss: 0.3955 - accuracy: 0.8321\n",
      "Epoch 40/300\n",
      "30/30 [==============================] - 0s 2ms/step - loss: 0.4347 - accuracy: 0.8222\n",
      "Epoch 41/300\n",
      "30/30 [==============================] - 0s 2ms/step - loss: 0.4162 - accuracy: 0.8360\n",
      "Epoch 42/300\n",
      "30/30 [==============================] - 0s 3ms/step - loss: 0.4402 - accuracy: 0.8055\n",
      "Epoch 43/300\n",
      "30/30 [==============================] - 0s 3ms/step - loss: 0.4028 - accuracy: 0.8388\n",
      "Epoch 44/300\n",
      "30/30 [==============================] - 0s 3ms/step - loss: 0.3929 - accuracy: 0.8378\n",
      "Epoch 45/300\n",
      "30/30 [==============================] - 0s 3ms/step - loss: 0.4267 - accuracy: 0.8207\n",
      "Epoch 46/300\n",
      "30/30 [==============================] - 0s 3ms/step - loss: 0.4074 - accuracy: 0.8183\n",
      "Epoch 47/300\n",
      "30/30 [==============================] - 0s 4ms/step - loss: 0.4046 - accuracy: 0.8308\n",
      "Epoch 48/300\n",
      "30/30 [==============================] - 0s 2ms/step - loss: 0.3661 - accuracy: 0.8479\n",
      "Epoch 49/300\n",
      "30/30 [==============================] - 0s 2ms/step - loss: 0.5484 - accuracy: 0.7555\n",
      "Epoch 50/300\n",
      "30/30 [==============================] - 0s 2ms/step - loss: 0.4584 - accuracy: 0.7980\n",
      "Epoch 51/300\n",
      "30/30 [==============================] - 0s 3ms/step - loss: 0.4189 - accuracy: 0.8206\n",
      "Epoch 52/300\n",
      "30/30 [==============================] - 0s 3ms/step - loss: 0.4070 - accuracy: 0.8192\n",
      "Epoch 53/300\n",
      "30/30 [==============================] - 0s 2ms/step - loss: 0.4241 - accuracy: 0.8045\n",
      "Epoch 54/300\n",
      "30/30 [==============================] - 0s 3ms/step - loss: 0.3859 - accuracy: 0.8381\n",
      "Epoch 55/300\n",
      "30/30 [==============================] - 0s 2ms/step - loss: 0.4731 - accuracy: 0.7753\n",
      "Epoch 56/300\n",
      "30/30 [==============================] - 0s 2ms/step - loss: 0.5394 - accuracy: 0.7459\n",
      "Epoch 57/300\n",
      "30/30 [==============================] - 0s 2ms/step - loss: 0.4585 - accuracy: 0.8162\n",
      "Epoch 58/300\n",
      "30/30 [==============================] - 0s 2ms/step - loss: 0.4103 - accuracy: 0.8216\n",
      "Epoch 59/300\n",
      "30/30 [==============================] - 0s 2ms/step - loss: 0.4161 - accuracy: 0.8299\n",
      "Epoch 60/300\n",
      "30/30 [==============================] - 0s 2ms/step - loss: 0.4065 - accuracy: 0.8173\n",
      "Epoch 61/300\n",
      "30/30 [==============================] - 0s 2ms/step - loss: 0.3834 - accuracy: 0.8330\n",
      "Epoch 62/300\n",
      "30/30 [==============================] - 0s 2ms/step - loss: 0.4105 - accuracy: 0.8263\n",
      "Epoch 63/300\n",
      "30/30 [==============================] - 0s 2ms/step - loss: 0.3700 - accuracy: 0.8252\n",
      "Epoch 64/300\n",
      "30/30 [==============================] - 0s 3ms/step - loss: 0.3727 - accuracy: 0.8324\n",
      "Epoch 65/300\n",
      "30/30 [==============================] - 0s 3ms/step - loss: 0.5087 - accuracy: 0.7918\n",
      "Epoch 66/300\n",
      "30/30 [==============================] - 0s 2ms/step - loss: 0.4916 - accuracy: 0.7988\n",
      "Epoch 67/300\n",
      "30/30 [==============================] - 0s 2ms/step - loss: 0.4608 - accuracy: 0.7802\n",
      "Epoch 68/300\n",
      "30/30 [==============================] - 0s 2ms/step - loss: 0.3972 - accuracy: 0.8130\n",
      "Epoch 69/300\n",
      "30/30 [==============================] - 0s 2ms/step - loss: 0.4063 - accuracy: 0.8466\n",
      "Epoch 70/300\n",
      "30/30 [==============================] - 0s 2ms/step - loss: 0.3952 - accuracy: 0.8317\n",
      "Epoch 71/300\n",
      "30/30 [==============================] - 0s 2ms/step - loss: 0.4871 - accuracy: 0.7985\n",
      "Epoch 72/300\n",
      "30/30 [==============================] - 0s 2ms/step - loss: 0.3654 - accuracy: 0.8606\n",
      "Epoch 73/300\n",
      "30/30 [==============================] - 0s 2ms/step - loss: 0.3815 - accuracy: 0.8427\n",
      "Epoch 74/300\n",
      "30/30 [==============================] - 0s 2ms/step - loss: 0.3725 - accuracy: 0.8371\n",
      "Epoch 75/300\n",
      "30/30 [==============================] - 0s 2ms/step - loss: 0.3864 - accuracy: 0.8398\n",
      "Epoch 76/300\n",
      "30/30 [==============================] - 0s 2ms/step - loss: 0.3980 - accuracy: 0.8399\n",
      "Epoch 77/300\n",
      "30/30 [==============================] - 0s 2ms/step - loss: 0.3786 - accuracy: 0.8336\n",
      "Epoch 78/300\n",
      "30/30 [==============================] - 0s 2ms/step - loss: 0.4079 - accuracy: 0.8213\n",
      "Epoch 79/300\n",
      "30/30 [==============================] - 0s 2ms/step - loss: 0.4136 - accuracy: 0.8252\n",
      "Epoch 80/300\n",
      "30/30 [==============================] - 0s 2ms/step - loss: 0.3893 - accuracy: 0.8248\n",
      "Epoch 81/300\n",
      "30/30 [==============================] - 0s 2ms/step - loss: 0.4079 - accuracy: 0.8293\n",
      "Epoch 82/300\n",
      "30/30 [==============================] - 0s 2ms/step - loss: 0.4152 - accuracy: 0.8140\n",
      "Epoch 83/300\n",
      "30/30 [==============================] - 0s 2ms/step - loss: 0.4168 - accuracy: 0.8095\n",
      "Epoch 84/300\n",
      "30/30 [==============================] - 0s 2ms/step - loss: 0.3950 - accuracy: 0.8291\n",
      "Epoch 85/300\n",
      "30/30 [==============================] - 0s 2ms/step - loss: 0.3597 - accuracy: 0.8462\n",
      "Epoch 86/300\n",
      "30/30 [==============================] - 0s 2ms/step - loss: 0.5445 - accuracy: 0.7632\n",
      "Epoch 87/300\n",
      "30/30 [==============================] - 0s 2ms/step - loss: 0.3999 - accuracy: 0.8197\n",
      "Epoch 88/300\n",
      "30/30 [==============================] - 0s 2ms/step - loss: 0.3950 - accuracy: 0.8384\n",
      "Epoch 89/300\n",
      "30/30 [==============================] - 0s 3ms/step - loss: 0.3840 - accuracy: 0.8322\n",
      "Epoch 90/300\n",
      "30/30 [==============================] - 0s 3ms/step - loss: 0.3907 - accuracy: 0.8246\n",
      "Epoch 91/300\n",
      "30/30 [==============================] - 0s 2ms/step - loss: 0.3970 - accuracy: 0.8194\n",
      "Epoch 92/300\n",
      "30/30 [==============================] - 0s 2ms/step - loss: 0.3908 - accuracy: 0.8153\n",
      "Epoch 93/300\n",
      "30/30 [==============================] - 0s 2ms/step - loss: 0.3816 - accuracy: 0.8393\n",
      "Epoch 94/300\n",
      "30/30 [==============================] - 0s 2ms/step - loss: 0.3667 - accuracy: 0.8461\n",
      "Epoch 95/300\n",
      "30/30 [==============================] - 0s 2ms/step - loss: 0.4005 - accuracy: 0.8275\n",
      "Epoch 96/300\n",
      "30/30 [==============================] - 0s 2ms/step - loss: 0.4003 - accuracy: 0.8215\n",
      "Epoch 97/300\n",
      "30/30 [==============================] - 0s 2ms/step - loss: 0.3966 - accuracy: 0.8350\n",
      "Epoch 98/300\n",
      "30/30 [==============================] - 0s 2ms/step - loss: 0.4157 - accuracy: 0.8261\n",
      "Epoch 99/300\n",
      "30/30 [==============================] - 0s 2ms/step - loss: 0.4231 - accuracy: 0.8120\n",
      "Epoch 100/300\n",
      "30/30 [==============================] - 0s 2ms/step - loss: 0.3523 - accuracy: 0.8602\n",
      "Epoch 101/300\n",
      "30/30 [==============================] - 0s 2ms/step - loss: 0.3842 - accuracy: 0.8366\n",
      "Epoch 102/300\n",
      "30/30 [==============================] - 0s 2ms/step - loss: 0.4058 - accuracy: 0.8220\n",
      "Epoch 103/300\n",
      "30/30 [==============================] - 0s 2ms/step - loss: 0.3821 - accuracy: 0.8313\n",
      "Epoch 104/300\n",
      "30/30 [==============================] - 0s 2ms/step - loss: 0.3946 - accuracy: 0.8273\n",
      "Epoch 105/300\n",
      "30/30 [==============================] - 0s 2ms/step - loss: 0.3784 - accuracy: 0.8317\n",
      "Epoch 106/300\n",
      "30/30 [==============================] - 0s 2ms/step - loss: 0.3659 - accuracy: 0.8526\n",
      "Epoch 107/300\n",
      "30/30 [==============================] - 0s 2ms/step - loss: 0.3630 - accuracy: 0.8481\n",
      "Epoch 108/300\n",
      "30/30 [==============================] - 0s 2ms/step - loss: 0.3428 - accuracy: 0.8569\n",
      "Epoch 109/300\n",
      "30/30 [==============================] - 0s 2ms/step - loss: 0.3537 - accuracy: 0.8568\n",
      "Epoch 110/300\n",
      "30/30 [==============================] - 0s 2ms/step - loss: 0.3630 - accuracy: 0.8409\n",
      "Epoch 111/300\n",
      "30/30 [==============================] - 0s 2ms/step - loss: 0.3837 - accuracy: 0.8522\n",
      "Epoch 112/300\n",
      "30/30 [==============================] - 0s 2ms/step - loss: 0.3520 - accuracy: 0.8371\n",
      "Epoch 113/300\n",
      "30/30 [==============================] - 0s 2ms/step - loss: 0.4068 - accuracy: 0.8106\n",
      "Epoch 114/300\n",
      "30/30 [==============================] - 0s 2ms/step - loss: 0.3592 - accuracy: 0.8223\n",
      "Epoch 115/300\n",
      "30/30 [==============================] - 0s 2ms/step - loss: 0.3823 - accuracy: 0.8306\n",
      "Epoch 116/300\n",
      "30/30 [==============================] - 0s 2ms/step - loss: 0.3505 - accuracy: 0.8464\n",
      "Epoch 117/300\n",
      "30/30 [==============================] - 0s 3ms/step - loss: 0.4082 - accuracy: 0.8194\n",
      "Epoch 118/300\n",
      "30/30 [==============================] - 0s 2ms/step - loss: 0.3745 - accuracy: 0.8356\n",
      "Epoch 119/300\n",
      "30/30 [==============================] - 0s 3ms/step - loss: 0.3683 - accuracy: 0.8438\n",
      "Epoch 120/300\n",
      "30/30 [==============================] - 0s 2ms/step - loss: 0.3779 - accuracy: 0.8380\n",
      "Epoch 121/300\n",
      "30/30 [==============================] - 0s 2ms/step - loss: 0.3496 - accuracy: 0.8587\n",
      "Epoch 122/300\n",
      "30/30 [==============================] - 0s 2ms/step - loss: 0.3693 - accuracy: 0.8489\n",
      "Epoch 123/300\n",
      "30/30 [==============================] - 0s 2ms/step - loss: 0.3940 - accuracy: 0.8304\n",
      "Epoch 124/300\n",
      "30/30 [==============================] - 0s 2ms/step - loss: 0.3530 - accuracy: 0.8487\n",
      "Epoch 125/300\n",
      "30/30 [==============================] - 0s 2ms/step - loss: 0.4192 - accuracy: 0.8149\n",
      "Epoch 126/300\n",
      "30/30 [==============================] - 0s 2ms/step - loss: 0.3700 - accuracy: 0.8449\n",
      "Epoch 127/300\n",
      "30/30 [==============================] - 0s 2ms/step - loss: 0.3804 - accuracy: 0.8287\n",
      "Epoch 128/300\n",
      "30/30 [==============================] - 0s 2ms/step - loss: 0.3585 - accuracy: 0.8513\n",
      "Epoch 129/300\n",
      "30/30 [==============================] - 0s 2ms/step - loss: 0.4573 - accuracy: 0.8075\n",
      "Epoch 130/300\n",
      "30/30 [==============================] - 0s 2ms/step - loss: 0.4433 - accuracy: 0.8096\n",
      "Epoch 131/300\n",
      "30/30 [==============================] - 0s 2ms/step - loss: 0.4044 - accuracy: 0.8271\n",
      "Epoch 132/300\n",
      "30/30 [==============================] - 0s 2ms/step - loss: 0.3714 - accuracy: 0.8388\n",
      "Epoch 133/300\n",
      "30/30 [==============================] - 0s 2ms/step - loss: 0.3473 - accuracy: 0.8456\n",
      "Epoch 134/300\n",
      "30/30 [==============================] - 0s 2ms/step - loss: 0.3593 - accuracy: 0.8484\n",
      "Epoch 135/300\n",
      "30/30 [==============================] - 0s 2ms/step - loss: 0.3772 - accuracy: 0.8291\n",
      "Epoch 136/300\n",
      "30/30 [==============================] - 0s 2ms/step - loss: 0.3419 - accuracy: 0.8522\n",
      "Epoch 137/300\n",
      "30/30 [==============================] - 0s 2ms/step - loss: 0.3516 - accuracy: 0.8343\n",
      "Epoch 138/300\n",
      "30/30 [==============================] - 0s 2ms/step - loss: 0.3709 - accuracy: 0.8399\n",
      "Epoch 139/300\n",
      "30/30 [==============================] - 0s 2ms/step - loss: 0.3732 - accuracy: 0.8379\n",
      "Epoch 140/300\n",
      "30/30 [==============================] - 0s 2ms/step - loss: 0.4038 - accuracy: 0.8198\n",
      "Epoch 141/300\n",
      "30/30 [==============================] - 0s 2ms/step - loss: 0.3303 - accuracy: 0.8629\n",
      "Epoch 142/300\n",
      "30/30 [==============================] - 0s 2ms/step - loss: 0.3277 - accuracy: 0.8690\n",
      "Epoch 143/300\n",
      "30/30 [==============================] - 0s 2ms/step - loss: 0.4263 - accuracy: 0.7983\n",
      "Epoch 144/300\n",
      "30/30 [==============================] - 0s 2ms/step - loss: 0.3478 - accuracy: 0.8475\n",
      "Epoch 145/300\n",
      "30/30 [==============================] - 0s 2ms/step - loss: 0.3830 - accuracy: 0.8345\n",
      "Epoch 146/300\n",
      "30/30 [==============================] - 0s 2ms/step - loss: 0.3537 - accuracy: 0.8527\n",
      "Epoch 147/300\n",
      "30/30 [==============================] - 0s 2ms/step - loss: 0.4400 - accuracy: 0.7990\n",
      "Epoch 148/300\n",
      "30/30 [==============================] - 0s 2ms/step - loss: 0.3751 - accuracy: 0.8489\n",
      "Epoch 149/300\n",
      "30/30 [==============================] - 0s 2ms/step - loss: 0.3945 - accuracy: 0.8220\n",
      "Epoch 150/300\n",
      "30/30 [==============================] - 0s 2ms/step - loss: 0.3821 - accuracy: 0.8347\n",
      "Epoch 151/300\n",
      "30/30 [==============================] - 0s 2ms/step - loss: 0.3721 - accuracy: 0.8326\n",
      "Epoch 152/300\n",
      "30/30 [==============================] - 0s 2ms/step - loss: 0.3463 - accuracy: 0.8539\n",
      "Epoch 153/300\n",
      "30/30 [==============================] - 0s 2ms/step - loss: 0.3770 - accuracy: 0.8244\n",
      "Epoch 154/300\n",
      "30/30 [==============================] - 0s 2ms/step - loss: 0.4057 - accuracy: 0.8284\n",
      "Epoch 155/300\n",
      "30/30 [==============================] - 0s 2ms/step - loss: 0.3720 - accuracy: 0.8339\n",
      "Epoch 156/300\n",
      "30/30 [==============================] - 0s 2ms/step - loss: 0.3492 - accuracy: 0.8478\n",
      "Epoch 157/300\n",
      "30/30 [==============================] - 0s 2ms/step - loss: 0.3834 - accuracy: 0.8417\n",
      "Epoch 158/300\n",
      "30/30 [==============================] - 0s 2ms/step - loss: 0.3113 - accuracy: 0.8642\n",
      "Epoch 159/300\n",
      "30/30 [==============================] - 0s 2ms/step - loss: 0.3261 - accuracy: 0.8583\n",
      "Epoch 160/300\n",
      "30/30 [==============================] - 0s 2ms/step - loss: 0.3631 - accuracy: 0.8463\n",
      "Epoch 161/300\n",
      "30/30 [==============================] - 0s 2ms/step - loss: 0.3525 - accuracy: 0.8266\n",
      "Epoch 162/300\n",
      "30/30 [==============================] - 0s 2ms/step - loss: 0.3650 - accuracy: 0.8414\n",
      "Epoch 163/300\n",
      "30/30 [==============================] - 0s 2ms/step - loss: 0.3924 - accuracy: 0.8238\n",
      "Epoch 164/300\n",
      "30/30 [==============================] - 0s 2ms/step - loss: 0.3601 - accuracy: 0.8492\n",
      "Epoch 165/300\n",
      "30/30 [==============================] - 0s 2ms/step - loss: 0.3768 - accuracy: 0.8314\n",
      "Epoch 166/300\n",
      "30/30 [==============================] - 0s 2ms/step - loss: 0.3634 - accuracy: 0.8505\n",
      "Epoch 167/300\n",
      "30/30 [==============================] - 0s 2ms/step - loss: 0.3367 - accuracy: 0.8571\n",
      "Epoch 168/300\n",
      "30/30 [==============================] - 0s 2ms/step - loss: 0.3475 - accuracy: 0.8457\n",
      "Epoch 169/300\n",
      "30/30 [==============================] - 0s 2ms/step - loss: 0.3237 - accuracy: 0.8576\n",
      "Epoch 170/300\n",
      "30/30 [==============================] - 0s 2ms/step - loss: 0.3730 - accuracy: 0.8292\n",
      "Epoch 171/300\n",
      "30/30 [==============================] - 0s 2ms/step - loss: 0.3832 - accuracy: 0.8429\n",
      "Epoch 172/300\n",
      "30/30 [==============================] - 0s 2ms/step - loss: 0.3176 - accuracy: 0.8474\n",
      "Epoch 173/300\n",
      "30/30 [==============================] - 0s 2ms/step - loss: 0.3138 - accuracy: 0.8634\n",
      "Epoch 174/300\n",
      "30/30 [==============================] - 0s 2ms/step - loss: 0.3530 - accuracy: 0.8398\n",
      "Epoch 175/300\n",
      "30/30 [==============================] - 0s 2ms/step - loss: 0.3718 - accuracy: 0.8448\n",
      "Epoch 176/300\n",
      "30/30 [==============================] - 0s 2ms/step - loss: 0.4073 - accuracy: 0.8233\n",
      "Epoch 177/300\n",
      "30/30 [==============================] - 0s 2ms/step - loss: 0.3157 - accuracy: 0.8575\n",
      "Epoch 178/300\n",
      "30/30 [==============================] - 0s 2ms/step - loss: 0.3332 - accuracy: 0.8549\n",
      "Epoch 179/300\n",
      "30/30 [==============================] - 0s 2ms/step - loss: 0.3685 - accuracy: 0.8441\n",
      "Epoch 180/300\n",
      "30/30 [==============================] - 0s 2ms/step - loss: 0.3318 - accuracy: 0.8536\n",
      "Epoch 181/300\n",
      "30/30 [==============================] - 0s 2ms/step - loss: 0.3987 - accuracy: 0.7920\n",
      "Epoch 182/300\n",
      "30/30 [==============================] - 0s 2ms/step - loss: 0.3944 - accuracy: 0.8233\n",
      "Epoch 183/300\n",
      "30/30 [==============================] - 0s 2ms/step - loss: 0.3649 - accuracy: 0.8510\n",
      "Epoch 184/300\n",
      "30/30 [==============================] - 0s 2ms/step - loss: 0.3180 - accuracy: 0.8605\n",
      "Epoch 185/300\n",
      "30/30 [==============================] - 0s 2ms/step - loss: 0.3669 - accuracy: 0.8337\n",
      "Epoch 186/300\n",
      "30/30 [==============================] - 0s 2ms/step - loss: 0.3219 - accuracy: 0.8621\n",
      "Epoch 187/300\n",
      "30/30 [==============================] - 0s 2ms/step - loss: 0.3225 - accuracy: 0.8618\n",
      "Epoch 188/300\n",
      "30/30 [==============================] - 0s 2ms/step - loss: 0.3278 - accuracy: 0.8504\n",
      "Epoch 189/300\n",
      "30/30 [==============================] - 0s 2ms/step - loss: 0.3396 - accuracy: 0.8488\n",
      "Epoch 190/300\n",
      "30/30 [==============================] - 0s 2ms/step - loss: 0.3015 - accuracy: 0.8724\n",
      "Epoch 191/300\n",
      "30/30 [==============================] - 0s 2ms/step - loss: 0.3604 - accuracy: 0.8371\n",
      "Epoch 192/300\n",
      "30/30 [==============================] - 0s 2ms/step - loss: 0.3255 - accuracy: 0.8656\n",
      "Epoch 193/300\n",
      "30/30 [==============================] - 0s 2ms/step - loss: 0.3397 - accuracy: 0.8645\n",
      "Epoch 194/300\n",
      "30/30 [==============================] - 0s 2ms/step - loss: 0.3246 - accuracy: 0.8619\n",
      "Epoch 195/300\n",
      "30/30 [==============================] - 0s 2ms/step - loss: 0.3399 - accuracy: 0.8448\n",
      "Epoch 196/300\n",
      "30/30 [==============================] - 0s 2ms/step - loss: 0.3274 - accuracy: 0.8603\n",
      "Epoch 197/300\n",
      "30/30 [==============================] - 0s 2ms/step - loss: 0.3835 - accuracy: 0.8226\n",
      "Epoch 198/300\n",
      "30/30 [==============================] - 0s 2ms/step - loss: 0.3328 - accuracy: 0.8474\n",
      "Epoch 199/300\n",
      "30/30 [==============================] - 0s 2ms/step - loss: 0.3331 - accuracy: 0.8448\n",
      "Epoch 200/300\n",
      "30/30 [==============================] - 0s 2ms/step - loss: 0.3482 - accuracy: 0.8549\n",
      "Epoch 201/300\n",
      "30/30 [==============================] - 0s 2ms/step - loss: 0.3149 - accuracy: 0.8672\n",
      "Epoch 202/300\n",
      "30/30 [==============================] - 0s 2ms/step - loss: 0.3354 - accuracy: 0.8470\n",
      "Epoch 203/300\n",
      "30/30 [==============================] - 0s 2ms/step - loss: 0.3308 - accuracy: 0.8640\n",
      "Epoch 204/300\n",
      "30/30 [==============================] - 0s 2ms/step - loss: 0.3509 - accuracy: 0.8394\n",
      "Epoch 205/300\n",
      "30/30 [==============================] - 0s 2ms/step - loss: 0.2966 - accuracy: 0.8820\n",
      "Epoch 206/300\n",
      "30/30 [==============================] - 0s 2ms/step - loss: 0.3988 - accuracy: 0.7995\n",
      "Epoch 207/300\n",
      "30/30 [==============================] - 0s 2ms/step - loss: 0.4013 - accuracy: 0.8309\n",
      "Epoch 208/300\n",
      "30/30 [==============================] - 0s 2ms/step - loss: 0.3404 - accuracy: 0.8465\n",
      "Epoch 209/300\n",
      "30/30 [==============================] - 0s 2ms/step - loss: 0.3974 - accuracy: 0.8276\n",
      "Epoch 210/300\n",
      "30/30 [==============================] - 0s 2ms/step - loss: 0.3515 - accuracy: 0.8341\n",
      "Epoch 211/300\n",
      "30/30 [==============================] - 0s 2ms/step - loss: 0.3162 - accuracy: 0.8608\n",
      "Epoch 212/300\n",
      "30/30 [==============================] - 0s 2ms/step - loss: 0.3225 - accuracy: 0.8591\n",
      "Epoch 213/300\n",
      "30/30 [==============================] - 0s 2ms/step - loss: 0.3787 - accuracy: 0.8324\n",
      "Epoch 214/300\n",
      "30/30 [==============================] - 0s 2ms/step - loss: 0.3135 - accuracy: 0.8569\n",
      "Epoch 215/300\n",
      "30/30 [==============================] - 0s 2ms/step - loss: 0.2985 - accuracy: 0.8653\n",
      "Epoch 216/300\n",
      "30/30 [==============================] - 0s 2ms/step - loss: 0.3350 - accuracy: 0.8339\n",
      "Epoch 217/300\n",
      "30/30 [==============================] - 0s 2ms/step - loss: 0.3151 - accuracy: 0.8589\n",
      "Epoch 218/300\n",
      "30/30 [==============================] - 0s 2ms/step - loss: 0.3264 - accuracy: 0.8650\n",
      "Epoch 219/300\n",
      "30/30 [==============================] - 0s 2ms/step - loss: 0.3237 - accuracy: 0.8576\n",
      "Epoch 220/300\n",
      "30/30 [==============================] - 0s 2ms/step - loss: 0.3230 - accuracy: 0.8490\n",
      "Epoch 221/300\n",
      "30/30 [==============================] - 0s 2ms/step - loss: 0.3620 - accuracy: 0.8300\n",
      "Epoch 222/300\n",
      "30/30 [==============================] - 0s 2ms/step - loss: 0.3127 - accuracy: 0.8662\n",
      "Epoch 223/300\n",
      "30/30 [==============================] - 0s 2ms/step - loss: 0.3073 - accuracy: 0.8734\n",
      "Epoch 224/300\n",
      "30/30 [==============================] - 0s 2ms/step - loss: 0.3373 - accuracy: 0.8455\n",
      "Epoch 225/300\n",
      "30/30 [==============================] - 0s 2ms/step - loss: 0.3106 - accuracy: 0.8664\n",
      "Epoch 226/300\n",
      "30/30 [==============================] - 0s 2ms/step - loss: 0.3355 - accuracy: 0.8520\n",
      "Epoch 227/300\n",
      "30/30 [==============================] - 0s 2ms/step - loss: 0.3467 - accuracy: 0.8566\n",
      "Epoch 228/300\n",
      "30/30 [==============================] - 0s 2ms/step - loss: 0.3111 - accuracy: 0.8740\n",
      "Epoch 229/300\n",
      "30/30 [==============================] - 0s 2ms/step - loss: 0.3550 - accuracy: 0.8339\n",
      "Epoch 230/300\n",
      "30/30 [==============================] - 0s 2ms/step - loss: 0.3281 - accuracy: 0.8613\n",
      "Epoch 231/300\n",
      "30/30 [==============================] - 0s 2ms/step - loss: 0.3208 - accuracy: 0.8673\n",
      "Epoch 232/300\n",
      "30/30 [==============================] - 0s 2ms/step - loss: 0.3176 - accuracy: 0.8728\n",
      "Epoch 233/300\n",
      "30/30 [==============================] - 0s 2ms/step - loss: 0.3245 - accuracy: 0.8640\n",
      "Epoch 234/300\n",
      "30/30 [==============================] - 0s 2ms/step - loss: 0.3433 - accuracy: 0.8380\n",
      "Epoch 235/300\n",
      "30/30 [==============================] - 0s 2ms/step - loss: 0.2898 - accuracy: 0.8797\n",
      "Epoch 236/300\n",
      "30/30 [==============================] - 0s 2ms/step - loss: 0.3096 - accuracy: 0.8673\n",
      "Epoch 237/300\n",
      "30/30 [==============================] - 0s 2ms/step - loss: 0.3041 - accuracy: 0.8719\n",
      "Epoch 238/300\n",
      "30/30 [==============================] - 0s 2ms/step - loss: 0.3025 - accuracy: 0.8566\n",
      "Epoch 239/300\n",
      "30/30 [==============================] - 0s 2ms/step - loss: 0.3227 - accuracy: 0.8544\n",
      "Epoch 240/300\n",
      "30/30 [==============================] - 0s 2ms/step - loss: 0.2972 - accuracy: 0.8697\n",
      "Epoch 241/300\n",
      "30/30 [==============================] - 0s 2ms/step - loss: 0.2915 - accuracy: 0.8753\n",
      "Epoch 242/300\n",
      "30/30 [==============================] - 0s 2ms/step - loss: 0.3128 - accuracy: 0.8683\n",
      "Epoch 243/300\n",
      "30/30 [==============================] - 0s 2ms/step - loss: 0.3112 - accuracy: 0.8738\n",
      "Epoch 244/300\n",
      "30/30 [==============================] - 0s 2ms/step - loss: 0.3205 - accuracy: 0.8565\n",
      "Epoch 245/300\n",
      "30/30 [==============================] - 0s 2ms/step - loss: 0.3076 - accuracy: 0.8639\n",
      "Epoch 246/300\n",
      "30/30 [==============================] - 0s 2ms/step - loss: 0.3186 - accuracy: 0.8737\n",
      "Epoch 247/300\n",
      "30/30 [==============================] - 0s 2ms/step - loss: 0.3614 - accuracy: 0.8465\n",
      "Epoch 248/300\n",
      "30/30 [==============================] - 0s 2ms/step - loss: 0.3372 - accuracy: 0.8375\n",
      "Epoch 249/300\n",
      "30/30 [==============================] - 0s 2ms/step - loss: 0.3480 - accuracy: 0.8336\n",
      "Epoch 250/300\n",
      "30/30 [==============================] - 0s 3ms/step - loss: 0.3181 - accuracy: 0.8518\n",
      "Epoch 251/300\n",
      "30/30 [==============================] - 0s 3ms/step - loss: 0.2739 - accuracy: 0.8733\n",
      "Epoch 252/300\n",
      "30/30 [==============================] - 0s 2ms/step - loss: 0.3279 - accuracy: 0.8382\n",
      "Epoch 253/300\n",
      "30/30 [==============================] - 0s 2ms/step - loss: 0.3371 - accuracy: 0.8578\n",
      "Epoch 254/300\n",
      "30/30 [==============================] - 0s 2ms/step - loss: 0.3547 - accuracy: 0.8426\n",
      "Epoch 255/300\n",
      "30/30 [==============================] - 0s 2ms/step - loss: 0.2983 - accuracy: 0.8697\n",
      "Epoch 256/300\n",
      "30/30 [==============================] - 0s 2ms/step - loss: 0.3133 - accuracy: 0.8670\n",
      "Epoch 257/300\n",
      "30/30 [==============================] - 0s 2ms/step - loss: 0.3003 - accuracy: 0.8668\n",
      "Epoch 258/300\n",
      "30/30 [==============================] - 0s 2ms/step - loss: 0.3252 - accuracy: 0.8514\n",
      "Epoch 259/300\n",
      "30/30 [==============================] - 0s 2ms/step - loss: 0.3163 - accuracy: 0.8594\n",
      "Epoch 260/300\n",
      "30/30 [==============================] - 0s 2ms/step - loss: 0.2895 - accuracy: 0.8647\n",
      "Epoch 261/300\n",
      "30/30 [==============================] - 0s 2ms/step - loss: 0.2588 - accuracy: 0.8982\n",
      "Epoch 262/300\n",
      "30/30 [==============================] - 0s 2ms/step - loss: 0.2747 - accuracy: 0.8782\n",
      "Epoch 263/300\n",
      "30/30 [==============================] - 0s 2ms/step - loss: 0.2856 - accuracy: 0.8749\n",
      "Epoch 264/300\n",
      "30/30 [==============================] - 0s 2ms/step - loss: 0.3049 - accuracy: 0.8585\n",
      "Epoch 265/300\n",
      "30/30 [==============================] - 0s 2ms/step - loss: 0.2851 - accuracy: 0.8738\n",
      "Epoch 266/300\n",
      "30/30 [==============================] - 0s 2ms/step - loss: 0.2595 - accuracy: 0.8944\n",
      "Epoch 267/300\n",
      "30/30 [==============================] - 0s 3ms/step - loss: 0.2882 - accuracy: 0.8705\n",
      "Epoch 268/300\n",
      "30/30 [==============================] - 0s 2ms/step - loss: 0.2843 - accuracy: 0.8798\n",
      "Epoch 269/300\n",
      "30/30 [==============================] - 0s 2ms/step - loss: 0.2939 - accuracy: 0.8678\n",
      "Epoch 270/300\n",
      "30/30 [==============================] - 0s 2ms/step - loss: 0.2688 - accuracy: 0.8835\n",
      "Epoch 271/300\n",
      "30/30 [==============================] - 0s 2ms/step - loss: 0.2810 - accuracy: 0.8742\n",
      "Epoch 272/300\n",
      "30/30 [==============================] - 0s 2ms/step - loss: 0.2817 - accuracy: 0.8762\n",
      "Epoch 273/300\n",
      "30/30 [==============================] - 0s 2ms/step - loss: 0.3120 - accuracy: 0.8407\n",
      "Epoch 274/300\n",
      "30/30 [==============================] - 0s 2ms/step - loss: 0.2912 - accuracy: 0.8739\n",
      "Epoch 275/300\n",
      "30/30 [==============================] - 0s 2ms/step - loss: 0.2686 - accuracy: 0.8944\n",
      "Epoch 276/300\n",
      "30/30 [==============================] - 0s 2ms/step - loss: 0.2991 - accuracy: 0.8803\n",
      "Epoch 277/300\n",
      "30/30 [==============================] - 0s 2ms/step - loss: 0.2667 - accuracy: 0.8955\n",
      "Epoch 278/300\n",
      "30/30 [==============================] - 0s 2ms/step - loss: 0.2586 - accuracy: 0.8983\n",
      "Epoch 279/300\n",
      "30/30 [==============================] - 0s 2ms/step - loss: 0.2667 - accuracy: 0.8820\n",
      "Epoch 280/300\n",
      "30/30 [==============================] - 0s 2ms/step - loss: 0.3045 - accuracy: 0.8701\n",
      "Epoch 281/300\n",
      "30/30 [==============================] - 0s 2ms/step - loss: 0.2767 - accuracy: 0.8879\n",
      "Epoch 282/300\n",
      "30/30 [==============================] - 0s 2ms/step - loss: 0.2845 - accuracy: 0.8679\n",
      "Epoch 283/300\n",
      "30/30 [==============================] - 0s 2ms/step - loss: 0.2651 - accuracy: 0.8869\n",
      "Epoch 284/300\n",
      "30/30 [==============================] - 0s 2ms/step - loss: 0.2742 - accuracy: 0.8805\n",
      "Epoch 285/300\n",
      "30/30 [==============================] - 0s 2ms/step - loss: 0.2758 - accuracy: 0.8840\n",
      "Epoch 286/300\n",
      "30/30 [==============================] - 0s 2ms/step - loss: 0.2785 - accuracy: 0.8740\n",
      "Epoch 287/300\n",
      "30/30 [==============================] - 0s 2ms/step - loss: 0.2739 - accuracy: 0.8739\n",
      "Epoch 288/300\n",
      "30/30 [==============================] - 0s 2ms/step - loss: 0.2678 - accuracy: 0.8768\n",
      "Epoch 289/300\n",
      "30/30 [==============================] - 0s 2ms/step - loss: 0.2600 - accuracy: 0.8861\n",
      "Epoch 290/300\n",
      "30/30 [==============================] - 0s 2ms/step - loss: 0.2516 - accuracy: 0.8905\n",
      "Epoch 291/300\n",
      "30/30 [==============================] - 0s 2ms/step - loss: 0.3003 - accuracy: 0.8722\n",
      "Epoch 292/300\n",
      "30/30 [==============================] - 0s 2ms/step - loss: 0.2868 - accuracy: 0.8627\n",
      "Epoch 293/300\n",
      "30/30 [==============================] - 0s 2ms/step - loss: 0.2798 - accuracy: 0.8777\n",
      "Epoch 294/300\n",
      "30/30 [==============================] - 0s 2ms/step - loss: 0.2504 - accuracy: 0.8948\n",
      "Epoch 295/300\n",
      "30/30 [==============================] - 0s 2ms/step - loss: 0.2590 - accuracy: 0.8886\n",
      "Epoch 296/300\n",
      "30/30 [==============================] - 0s 2ms/step - loss: 0.2803 - accuracy: 0.8743\n",
      "Epoch 297/300\n",
      "30/30 [==============================] - 0s 2ms/step - loss: 0.2616 - accuracy: 0.8867\n",
      "Epoch 298/300\n",
      "30/30 [==============================] - 0s 2ms/step - loss: 0.2595 - accuracy: 0.8790\n",
      "Epoch 299/300\n",
      "30/30 [==============================] - 0s 2ms/step - loss: 0.2680 - accuracy: 0.8864\n",
      "Epoch 300/300\n",
      "30/30 [==============================] - 0s 2ms/step - loss: 0.2479 - accuracy: 0.9027\n"
     ]
    },
    {
     "data": {
      "text/plain": [
       "<tensorflow.python.keras.callbacks.History at 0x7f6344053a30>"
      ]
     },
     "execution_count": 50,
     "metadata": {},
     "output_type": "execute_result"
    }
   ],
   "source": [
    "model.fit(x_train,y_train,epochs=300)"
   ]
  },
  {
   "cell_type": "code",
   "execution_count": 51,
   "metadata": {},
   "outputs": [
    {
     "name": "stdout",
     "output_type": "stream",
     "text": [
      "The accuracy score achieved using Logistic Regression is: 80.67226890756302 %\n",
      "The accuracy score achieved using Decision Tree is: 86.97478991596638 %\n",
      "The accuracy score achieved using Random Forest is: 93.69747899159664 %\n"
     ]
    }
   ],
   "source": [
    "scores = [score_lr,score_data,score_rf]\n",
    "algorithms = [\"Logistic Regression\",\"Decision Tree\",\"Random Forest\"]    \n",
    "\n",
    "for i in range(len(algorithms)):\n",
    "    print(\"The accuracy score achieved using \"+algorithms[i]+\" is: \"+str(scores[i])+\" %\")"
   ]
  },
  {
   "cell_type": "code",
   "execution_count": 52,
   "metadata": {},
   "outputs": [
    {
     "data": {
      "text/plain": [
       "<AxesSubplot:xlabel='Algorithms', ylabel='Accuracy score'>"
      ]
     },
     "execution_count": 52,
     "metadata": {},
     "output_type": "execute_result"
    },
    {
     "data": {
      "image/png": "[encoded data removed]",
      "text/plain": [
       "<Figure size 432x288 with 1 Axes>"
      ]
     },
     "metadata": {
      "needs_background": "light"
     },
     "output_type": "display_data"
    }
   ],
   "source": [
    "plt.xlabel(\"Algorithms\")\n",
    "plt.ylabel(\"Accuracy score\")\n",
    "\n",
    "sns.barplot(algorithms,scores)"
   ]
  },
  {
   "cell_type": "markdown",
   "metadata": {},
   "source": [
    "# ***************************************thanks you*********************"
   ]
  },
  {
   "cell_type": "code",
   "execution_count": null,
   "metadata": {},
   "outputs": [],
   "source": []
  }
 ],
 "metadata": {
  "kernelspec": {
   "display_name": "Python 3",
   "language": "python",
   "name": "python3"
  },
  "language_info": {
   "codemirror_mode": {
    "name": "ipython",
    "version": 3
   },
   "file_extension": ".py",
   "mimetype": "text/x-python",
   "name": "python",
   "nbconvert_exporter": "python",
   "pygments_lexer": "ipython3",
   "version": "3.8.5"
  }
 },
 "nbformat": 4,
 "nbformat_minor": 4
}
